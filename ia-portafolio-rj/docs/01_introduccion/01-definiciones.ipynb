{
 "cells": [
  {
   "cell_type": "markdown",
   "metadata": {},
   "source": [
    "Que es \"Machine Learining\"\n",
    "==========================\n",
    "\n",
    "Machine Learning o \"aprendizaje automatico\" es una rama de la inteligencia artificial que se encarga de crear algoritmos que aprenden de los datos, sin necesidad de ser programados explicitamente para ello. Es el proceso de crear, a partir de muestras de datos, un programa que aprende de esos datos y que generaliza lo aprendido para poder predecir el comportamiento de datos nuevos.\n",
    "\n",
    "Se diferencia tanto de Data Mining como de la Inteligencia Artificial en que el objetivo de Machine Learning es la creacion de programas que aprenden de los datos, mientras que el objetivo de Data Mining es la extraccion de conocimiento de los datos y el objetivo de la Inteligencia Artificial es la creacion de programas que piensen como los humanos. \n",
    "\n",
    "## Tipos de Machine Learning\n",
    "\n",
    "Machine Learning se puede dividir en dos grandes grupos: `Aprendizaje Supervisado` y `Aprendizaje No Supervisado`. El Aprendizaje Supervisado se encarga de crear programas que aprenden de datos categorizados, mientras que el Aprendizaje No Supervisado se encarga de crear programas que aprenden de datos no categorizados."
   ]
  }
 ],
 "metadata": {
  "language_info": {
   "name": "python"
  },
  "orig_nbformat": 4
 },
 "nbformat": 4,
 "nbformat_minor": 2
}
