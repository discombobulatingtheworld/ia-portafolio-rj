{
 "cells": [
  {
   "cell_type": "markdown",
   "metadata": {},
   "source": [
    "Vista de un Dataset\n",
    "===================\n",
    "\n",
    "Este sera un ejercicio en el que realizaremos un analisis de un dataset. Tomaremos un dataset altamente conocido, el dataset de Mushroom, el cual contiene informacion sobre hongos y si son venenosos o no. Este se puede encontrar en el siguiente enlace: [Link!](http://archive.ics.uci.edu/dataset/73/mushroom)\n",
    "\n",
    "### Problema\n",
    "\n",
    "El problema que se quiere resolver es el de clasificar si un hongo es venenoso o no, basado en sus caracteristicas. Se intenta identificar si un hongo es comestible, venenoso, o si no se tiene suficiente informacion para clasificarlo. En el ultimo caso, se agrupa con los venenosos, terminando con una clasificacion binaria.\n",
    "\n",
    "### Atributos\n",
    "\n",
    "El dataset contiene 23 atributos, siendo 1 de ellos el atributo de clase. Los atributos son los siguientes:\n",
    "\n",
    "| Atributo | Valores | Descripcion |\n",
    "|----------|---------|-------------|\n",
    "| `class` | edible=`e`, poisonous=`p` | Clase a la que pertenece el hongo |\n",
    "| `cap-shape` |                bell=`b`,conical=`c`,convex=`x`,flat=`f`, knobbed=`k`,sunken=`s` | Forma del sombrero |\n",
    "| `cap-surface`             |  fibrous=`f`,grooves=`g`,scaly=`y`,smooth=`s` | Textura de la superficie del sombrero |\n",
    "| `cap-color`             |    brown=`n`,buff=`b`,cinnamon=`c`,gray=`g`,green=`r`, pink=`p`,purple=`u`,red=`e`,white=`w`,yellow=`y` | Color del sombrero |\n",
    "| `bruises?`             |    bruises=`t`,no=`f` | Tiene marcas de golpes? |\n",
    "| `odor`               |       almond=`a`,anise=`l`,creosote=`c`,fishy=`y`,foul=`f`, musty=`m`,none=`n`,pungent=`p`,spicy=`s` | Olor |\n",
    "| `gill-attachment`   |       attached=`a`,descending=`d`,free=`f`,notched=`n` | Union de las laminas con el sombrero |\n",
    "| `gill-spacing`    |          close=`c`,crowded=`w`,distant=`d` | Espacio entre las laminas |\n",
    "| `gill-size`              |   broad=`b`,narrow=`n` | Tamaño de las laminas |\n",
    "| `gill-color`           |     black=`k`,brown=`n`,buff=`b`,chocolate=`h`,gray=`g`, green=`r`,orange=`o`,pink=`p`,purple=`u`,red=`e`, white=`w`,yellow=`y` | Color de las laminas |\n",
    "| `stalk-shape`        |       enlarging=`e`,tapering=`t` | Forma del tallo |\n",
    "| `stalk-root`               | bulbous=`b`,club=`c`,cup=`u`,equal=`e`, rhizomorphs=`z`,rooted=`r`,missing=`?` | Raiz del tallo |\n",
    "| `stalk-surface-above-ring` | fibrous=`f`,scaly=`y`,silky=`k`,smooth=`s` | Textura del tallo por encima del anillo |\n",
    "| `stalk-surface-below-ring` | fibrous=`f`,scaly=`y`,silky=`k`,smooth=`s` | Textura del tallo por debajo del anillo |\n",
    "| `stalk-color-above-ring`  |  brown=`n`,buff=`b`,cinnamon=`c`,gray=`g`,orange=`o`, pink=`p`,red=`e`,white=`w`,yellow=`y` | Color del tallo por encima del anillo |\n",
    "| `stalk-color-below-ring`   | brown=`n`,buff=`b`,cinnamon=`c`,gray=`g`,orange=`o`, pink=`p`,red=`e`,white=`w`,yellow=`y` | Color del tallo por debajo del anillo |\n",
    "| `veil-type`               |  partial=`p`,universal=`u` | Tipo de velo |\n",
    "| `veil-color`             |   brown=`n`,orange=`o`,white=`w`,yellow=`y` | Color del velo |\n",
    "| `ring-number`           |    none=`n`,one=`o`,two=`t` | Numero de anillos |\n",
    "| `ring-type`           |      cobwebby=`c`,evanescent=`e`,flaring=`f`,large=`l`, none=`n`,pendant=`p`,sheathing=`s`,zone=`z` | Tipo de anillo |\n",
    "| `spore-print-color` |        black=`k`,brown=`n`,buff=`b`,chocolate=`h`,green=`r`, orange=`o`,purple=`u`,white=`w`,yellow=`y` | Color de la espora |\n",
    "| `population`  |              abundant=`a`,clustered=`c`,numerous=`n`, scattered=`s`,several=`v`,solitary=`y` | Agrupacion |\n",
    "| `habitat`   |                grasses=`g`,leaves=`l`,meadows=`m`,paths=`p`, urban=`u`,waste=`w`,woods=`d` | Habitat |\n",
    "\n",
    "### Algoritmos Aplicables\n",
    "\n",
    "Realizando una busqueda en internet para encontrar algoritmos que se puedan aplicar a este problema, se encontraron los siguientes:\n",
    "\n",
    "- Gaussian Naive Bayes Classifier\n",
    "- Logistic Regression Classifier\n",
    "- Decision Tree Classifier\n",
    "- Random Forest Classifier\n",
    "- xgBoost Classifier\n",
    "- Linear Discriminant Classifier\n",
    "- Gaussian Process Classifier\n",
    "- Ada-boost Classifier"
   ]
  }
 ],
 "metadata": {
  "language_info": {
   "name": "python"
  },
  "orig_nbformat": 4
 },
 "nbformat": 4,
 "nbformat_minor": 2
}
