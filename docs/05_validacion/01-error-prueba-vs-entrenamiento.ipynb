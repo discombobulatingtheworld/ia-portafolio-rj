{
 "cells": [
  {
   "cell_type": "markdown",
   "metadata": {},
   "source": [
    "Error de Entrenamiento vs Error de Prueba\n",
    "=========================================\n",
    "\n",
    "Es importante, luego de entrenar un modelo, evaluar su desempeño, y esto lo hacemos midiendo su precision. Con este dato, es posible seleccionar el modelo que mejor se ajuste a los datos y a el problema en cuestión.\n",
    "\n",
    "Para calcular la precision, primero es necesario entrenar el modelo con un conjunto de datos de entrenamiento. Luego, utilizamos el modelo con un conjunto de datos que ya posea determinada la variable de salida, y comparamos el resultado obtenido con el valor real de la variable de salida.\n",
    "\n",
    "Aqui surgen dos conceptos:\n",
    "\n",
    "- **Error de Entrenamiento**: Es el error que se obtiene al evaluar el modelo con los mismos datos con los que se entreno.\n",
    "- **Error de Prueba**: Es el error que se obtiene al evaluar el modelo con datos que no se utilizaron para entrenarlo. Requiere un segundo conjunto de datos disjunto del conjunto de entrenamiento. Al hacer esta distincion, pasamos a operar con dos conjuntos de datos: el de entrenamiento y el de prueba.\n",
    "\n",
    "En relación al error de entrenamiento, podemos decir que la precision del modelo puede ser muy alta, pero esto no significa que el modelo sea bueno. Esto se debe a que el modelo puede estar sobreajustado a los datos de entrenamiento, y por lo tanto, no generalizar bien. \n",
    "\n",
    "Un ejemplo de esto es el algoritmo kNN, que al tener un k = 1, siempre va a predecir el valor de la variable de salida con el valor de la variable de salida del dato mas cercano. Esto hace que el error de entrenamiento sea 0, obteniendo una precision del 100%, sin saber si el modelo es bueno o no.\n",
    "\n",
    "Por esto es importante evaluar el error de prueba e ignorar el error de entrenamiento. Si el error de prueba es alto, significa que el modelo no generaliza bien, y por lo tanto, no es bueno."
   ]
  }
 ],
 "metadata": {
  "language_info": {
   "name": "python"
  },
  "orig_nbformat": 4
 },
 "nbformat": 4,
 "nbformat_minor": 2
}
