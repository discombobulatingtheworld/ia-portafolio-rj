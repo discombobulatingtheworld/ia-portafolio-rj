{
 "cells": [
  {
   "cell_type": "markdown",
   "metadata": {},
   "source": [
    "Validación Dividida\n",
    "===================\n",
    "\n",
    "Al momento de validar un modelo, puede no ser posible obtener un conjunto de datos adicional para validar el modelo. En algunos casos, el obtener mas datos puede ser muy costoso o simplemente no es posible. En estos casos, se puede utilizar una técnica llamada validación dividida.\n",
    "\n",
    "La validación dividida consiste en dividir el conjunto de datos en dos partes, una para entrenar el modelo y otra para validar el modelo.\n",
    "\n",
    "Para realizar esta division del conjunto, es necesario considerar que el entrenamiento es mas efectivo cuantos mas ejemplos existan en el conjunto de entrenamiento. Debido a esto, se recomienda dividir el conjunto de datos en 70% para entrenamiento y 30% para validación."
   ]
  }
 ],
 "metadata": {
  "language_info": {
   "name": "python"
  },
  "orig_nbformat": 4
 },
 "nbformat": 4,
 "nbformat_minor": 2
}
