{
 "cells": [
  {
   "cell_type": "markdown",
   "metadata": {},
   "source": [
    "Selección de Atributos\n",
    "======================\n",
    "\n",
    "No todos los atributos de un conjunto de datos son útiles al momento de entrenar un modelo de aprendizaje automatizado. En especial en algoritmos paramétricos, como los lineales, algunos atributos pueden ser redundantes o incluso perjudiciales para el desempeño del modelo. Por ejemplo, en un modelo de regresión lineal, si dos atributos están altamente correlacionados, el modelo puede tener problemas para encontrar los parámetros óptimos. Por otro lado, si un atributo no tiene correlación con la variable objetivo, el modelo puede tener un desempeño pobre. Debido a esto, una tarea importante a realizar durante la etapa de preprocesamiento de datos, es la selección de atributos.\n",
    "\n",
    "Esta selección se puede realizar de forma manual, en base a conocimiento experto, o de forma automática, utilizando algoritmos de selección de atributos. Dentro de los métodos automaticos, uno puede realizar una optimización de la selección basada en probar combinaciones de atributos, quedandose con aquellos que mejor desempeño entreguen. Otro método es analizar por medio de una matriz de correlación la relación entre los atributos, eliminando aquellos que estén altamente correlacionados. Finalmente, se pueden utilizar algoritmos de selección de atributos, que calculan pesos para cada atributo, y se quedan con aquellos que tengan mayor peso o superen un umbral.\n",
    "\n",
    "## Atributos Correlacionados\n",
    "\n",
    "### Python\n",
    "\n",
    "Carguemos un conjunto de datos y veamos como se comportan los atributos entre si."
   ]
  },
  {
   "cell_type": "code",
   "execution_count": 34,
   "metadata": {},
   "outputs": [],
   "source": [
    "import pandas as pd\n",
    "import numpy as np\n",
    "from sklearn.preprocessing import StandardScaler\n",
    "from sklearn.linear_model import LogisticRegression\n",
    "from sklearn.pipeline import Pipeline\n",
    "from sklearn.feature_selection import SelectFromModel"
   ]
  },
  {
   "cell_type": "code",
   "execution_count": 35,
   "metadata": {},
   "outputs": [
    {
     "name": "stdout",
     "output_type": "stream",
     "text": [
      "<class 'pandas.core.frame.DataFrame'>\n",
      "RangeIndex: 899 entries, 0 to 898\n",
      "Data columns (total 77 columns):\n",
      " #   Column    Non-Null Count  Dtype  \n",
      "---  ------    --------------  -----  \n",
      " 0   dataset   899 non-null    object \n",
      " 1   id        899 non-null    int64  \n",
      " 2   ccf       899 non-null    int64  \n",
      " 3   age       899 non-null    int64  \n",
      " 4   sex       899 non-null    int64  \n",
      " 5   painloc   617 non-null    float64\n",
      " 6   painexer  617 non-null    float64\n",
      " 7   relrest   613 non-null    float64\n",
      " 8   pncaden   0 non-null      float64\n",
      " 9   cp        899 non-null    int64  \n",
      " 10  trestbps  840 non-null    float64\n",
      " 11  htn       865 non-null    float64\n",
      " 12  chol      869 non-null    float64\n",
      " 13  smoke     230 non-null    float64\n",
      " 14  cigs      479 non-null    float64\n",
      " 15  years     467 non-null    float64\n",
      " 16  fbs       809 non-null    float64\n",
      " 17  dm        95 non-null     float64\n",
      " 18  famhist   477 non-null    float64\n",
      " 19  restecg   897 non-null    float64\n",
      " 20  ekgmo     846 non-null    float64\n",
      " 21  ekgday    845 non-null    float64\n",
      " 22  ekgyr     846 non-null    float64\n",
      " 23  dig       831 non-null    float64\n",
      " 24  prop      833 non-null    float64\n",
      " 25  nitr      834 non-null    float64\n",
      " 26  pro       836 non-null    float64\n",
      " 27  diuretic  817 non-null    float64\n",
      " 28  proto     787 non-null    float64\n",
      " 29  thaldur   843 non-null    float64\n",
      " 30  thaltime  446 non-null    float64\n",
      " 31  met       794 non-null    float64\n",
      " 32  thalach   844 non-null    float64\n",
      " 33  thalrest  843 non-null    float64\n",
      " 34  tpeakbps  836 non-null    float64\n",
      " 35  tpeakbpd  836 non-null    float64\n",
      " 36  dummy     840 non-null    float64\n",
      " 37  trestbpd  840 non-null    float64\n",
      " 38  exang     844 non-null    float64\n",
      " 39  xhypo     841 non-null    float64\n",
      " 40  oldpeak   837 non-null    float64\n",
      " 41  slope     591 non-null    float64\n",
      " 42  rldv5     474 non-null    float64\n",
      " 43  rldv5e    757 non-null    float64\n",
      " 44  ca        291 non-null    float64\n",
      " 45  restckm   0 non-null      float64\n",
      " 46  exerckm   1 non-null      float64\n",
      " 47  restef    28 non-null     float64\n",
      " 48  restwm    30 non-null     float64\n",
      " 49  exeref    2 non-null      float64\n",
      " 50  exerwm    5 non-null      float64\n",
      " 51  thal      422 non-null    float64\n",
      " 52  thalsev   130 non-null    float64\n",
      " 53  thalpul   44 non-null     float64\n",
      " 54  earlobe   1 non-null      float64\n",
      " 55  cmo       888 non-null    float64\n",
      " 56  cday      890 non-null    float64\n",
      " 57  cyr       890 non-null    float64\n",
      " 58  num       899 non-null    int64  \n",
      " 59  lmt       624 non-null    float64\n",
      " 60  ladprox   663 non-null    float64\n",
      " 61  laddist   653 non-null    float64\n",
      " 62  diag      341 non-null    float64\n",
      " 63  cxmain    664 non-null    float64\n",
      " 64  ramus     332 non-null    float64\n",
      " 65  om1       628 non-null    float64\n",
      " 66  om2       327 non-null    float64\n",
      " 67  rcaprox   654 non-null    float64\n",
      " 68  rcadist   629 non-null    float64\n",
      " 69  lvx1      880 non-null    float64\n",
      " 70  lvx2      880 non-null    float64\n",
      " 71  lvx3      880 non-null    float64\n",
      " 72  lvx4      880 non-null    float64\n",
      " 73  lvf       883 non-null    float64\n",
      " 74  cathef    311 non-null    float64\n",
      " 75  junk      119 non-null    float64\n",
      " 76  name      899 non-null    object \n",
      "dtypes: float64(69), int64(6), object(2)\n",
      "memory usage: 540.9+ KB\n"
     ]
    }
   ],
   "source": [
    "dataset: pd.DataFrame = pd.read_csv('./datasets/full.csv')\n",
    "dataset.info()"
   ]
  },
  {
   "cell_type": "code",
   "execution_count": 36,
   "metadata": {},
   "outputs": [
    {
     "name": "stdout",
     "output_type": "stream",
     "text": [
      "          id       age       sex   painloc  painexer   relrest  pncaden  \\\n",
      "id       NaN  0.098213  0.067022  0.029687  0.135675  0.004992      NaN   \n",
      "age      NaN       NaN  0.063616  0.012959  0.193591  0.198020      NaN   \n",
      "sex      NaN       NaN       NaN  0.103689  0.222428  0.258928      NaN   \n",
      "painloc  NaN       NaN       NaN       NaN  0.269258  0.332300      NaN   \n",
      "painexer NaN       NaN       NaN       NaN       NaN  0.694375      NaN   \n",
      "...       ..       ...       ...       ...       ...       ...      ...   \n",
      "lvx3     NaN       NaN       NaN       NaN       NaN       NaN      NaN   \n",
      "lvx4     NaN       NaN       NaN       NaN       NaN       NaN      NaN   \n",
      "lvf      NaN       NaN       NaN       NaN       NaN       NaN      NaN   \n",
      "cathef   NaN       NaN       NaN       NaN       NaN       NaN      NaN   \n",
      "junk     NaN       NaN       NaN       NaN       NaN       NaN      NaN   \n",
      "\n",
      "                cp  trestbps       htn  ...       om2   rcaprox   rcadist  \\\n",
      "id        0.107745  0.008644  0.184405  ...  0.017602  0.154221  0.143603   \n",
      "age       0.160080  0.240246  0.153180  ...  0.047863  0.100287  0.067684   \n",
      "sex       0.178850  0.004917  0.034524  ...  0.004327  0.148485  0.117865   \n",
      "painloc   0.449421  0.000568  0.008231  ...  0.078934  0.056082  0.069040   \n",
      "painexer  0.834903  0.085713  0.016896  ...  0.052864  0.165407  0.143502   \n",
      "...            ...       ...       ...  ...       ...       ...       ...   \n",
      "lvx3           NaN       NaN       NaN  ...       NaN       NaN       NaN   \n",
      "lvx4           NaN       NaN       NaN  ...       NaN       NaN       NaN   \n",
      "lvf            NaN       NaN       NaN  ...       NaN       NaN       NaN   \n",
      "cathef         NaN       NaN       NaN  ...       NaN       NaN       NaN   \n",
      "junk           NaN       NaN       NaN  ...       NaN       NaN       NaN   \n",
      "\n",
      "              lvx1      lvx2      lvx3      lvx4       lvf    cathef      junk  \n",
      "id        0.197736  0.070122  0.037425  0.046351  0.183514  0.891962  0.026468  \n",
      "age       0.023271  0.066617  0.055995  0.111391  0.046576  0.269827  0.221078  \n",
      "sex       0.038458  0.041324  0.055161  0.148088  0.089861  0.189028  0.043138  \n",
      "painloc   0.025565  0.014885  0.028793  0.011222  0.044065  0.091442  0.036274  \n",
      "painexer  0.074662  0.053227  0.072625  0.157525  0.069229  0.045956  0.003137  \n",
      "...            ...       ...       ...       ...       ...       ...       ...  \n",
      "lvx3           NaN       NaN       NaN  0.458452  0.355248  0.008358  0.170833  \n",
      "lvx4           NaN       NaN       NaN       NaN  0.265997  0.177599  0.120731  \n",
      "lvf            NaN       NaN       NaN       NaN       NaN  0.128736  0.196370  \n",
      "cathef         NaN       NaN       NaN       NaN       NaN       NaN  0.292537  \n",
      "junk           NaN       NaN       NaN       NaN       NaN       NaN       NaN  \n",
      "\n",
      "[73 rows x 73 columns]\n"
     ]
    }
   ],
   "source": [
    "correlation_matrix = dataset.drop(['num', 'ccf', 'name', 'dataset'], axis=1).corr().abs()\n",
    "\n",
    "upper = correlation_matrix.where(\n",
    "    np.triu(np.ones(correlation_matrix.shape), k=1).astype(bool)\n",
    ")\n",
    "\n",
    "print(upper)"
   ]
  },
  {
   "cell_type": "markdown",
   "metadata": {},
   "source": [
    "Aqui podemos ver la matriz de correlación. Buscando remover atributos correlacionados podemos realizar lo siguiente:"
   ]
  },
  {
   "cell_type": "code",
   "execution_count": 37,
   "metadata": {},
   "outputs": [
    {
     "name": "stdout",
     "output_type": "stream",
     "text": [
      "<class 'pandas.core.frame.DataFrame'>\n",
      "RangeIndex: 899 entries, 0 to 898\n",
      "Data columns (total 33 columns):\n",
      " #   Column    Non-Null Count  Dtype  \n",
      "---  ------    --------------  -----  \n",
      " 0   dataset   899 non-null    object \n",
      " 1   id        899 non-null    int64  \n",
      " 2   ccf       899 non-null    int64  \n",
      " 3   age       899 non-null    int64  \n",
      " 4   sex       899 non-null    int64  \n",
      " 5   painloc   617 non-null    float64\n",
      " 6   painexer  617 non-null    float64\n",
      " 7   pncaden   0 non-null      float64\n",
      " 8   trestbps  840 non-null    float64\n",
      " 9   htn       865 non-null    float64\n",
      " 10  smoke     230 non-null    float64\n",
      " 11  fbs       809 non-null    float64\n",
      " 12  dm        95 non-null     float64\n",
      " 13  famhist   477 non-null    float64\n",
      " 14  restecg   897 non-null    float64\n",
      " 15  ekgmo     846 non-null    float64\n",
      " 16  ekgday    845 non-null    float64\n",
      " 17  dig       831 non-null    float64\n",
      " 18  prop      833 non-null    float64\n",
      " 19  nitr      834 non-null    float64\n",
      " 20  diuretic  817 non-null    float64\n",
      " 21  xhypo     841 non-null    float64\n",
      " 22  rldv5     474 non-null    float64\n",
      " 23  ca        291 non-null    float64\n",
      " 24  restckm   0 non-null      float64\n",
      " 25  exerckm   1 non-null      float64\n",
      " 26  earlobe   1 non-null      float64\n",
      " 27  num       899 non-null    int64  \n",
      " 28  om2       327 non-null    float64\n",
      " 29  lvx1      880 non-null    float64\n",
      " 30  lvx2      880 non-null    float64\n",
      " 31  lvx3      880 non-null    float64\n",
      " 32  name      899 non-null    object \n",
      "dtypes: float64(26), int64(5), object(2)\n",
      "memory usage: 231.9+ KB\n",
      "None\n"
     ]
    }
   ],
   "source": [
    "umbral = 0.35\n",
    "\n",
    "to_drop = [column for column in upper.columns if any(upper[column] > umbral)]\n",
    "\n",
    "df = dataset.drop(dataset[to_drop], axis=1)\n",
    "print(df.info())"
   ]
  },
  {
   "cell_type": "markdown",
   "metadata": {},
   "source": [
    "Esto resulto en una reducción del conjunto de datos de 72 atributos a 32., con un umbral de 0.35\n",
    "\n",
    "### RapidMiner\n",
    "\n",
    "En RapidMiner el proceso es muy sencillo gracias al operador `Remove Correlated Attributes`.\n",
    "\n",
    "![RapidMiner 01](../images/sa-01.png)\n",
    "\n",
    "## Optimización de Atributos\n",
    "\n",
    "### Python\n",
    "\n",
    "Volvamos a cargar los datos e intentemos optimizar la selección de atributos basandonos en pesos."
   ]
  },
  {
   "cell_type": "code",
   "execution_count": 38,
   "metadata": {},
   "outputs": [
    {
     "name": "stdout",
     "output_type": "stream",
     "text": [
      "<class 'pandas.core.frame.DataFrame'>\n",
      "RangeIndex: 572 entries, 0 to 571\n",
      "Data columns (total 29 columns):\n",
      " #   Column    Non-Null Count  Dtype  \n",
      "---  ------    --------------  -----  \n",
      " 0   dataset   572 non-null    object \n",
      " 1   id        572 non-null    int64  \n",
      " 2   age       572 non-null    int64  \n",
      " 3   sex       572 non-null    int64  \n",
      " 4   painloc   572 non-null    float64\n",
      " 5   painexer  572 non-null    float64\n",
      " 6   trestbps  572 non-null    float64\n",
      " 7   htn       572 non-null    float64\n",
      " 8   chol      572 non-null    float64\n",
      " 9   fbs       572 non-null    float64\n",
      " 10  restecg   572 non-null    float64\n",
      " 11  ekgmo     572 non-null    int64  \n",
      " 12  ekgday    572 non-null    int64  \n",
      " 13  dig       572 non-null    float64\n",
      " 14  prop      572 non-null    float64\n",
      " 15  nitr      572 non-null    float64\n",
      " 16  pro       572 non-null    float64\n",
      " 17  diuretic  572 non-null    float64\n",
      " 18  thaldur   572 non-null    float64\n",
      " 19  tpeakbpd  572 non-null    float64\n",
      " 20  oldpeak   572 non-null    float64\n",
      " 21  num       572 non-null    int64  \n",
      " 22  lmt       572 non-null    float64\n",
      " 23  ladprox   572 non-null    float64\n",
      " 24  laddist   572 non-null    float64\n",
      " 25  cxmain    572 non-null    float64\n",
      " 26  om1       572 non-null    float64\n",
      " 27  rcaprox   572 non-null    float64\n",
      " 28  rcadist   572 non-null    float64\n",
      "dtypes: float64(22), int64(6), object(1)\n",
      "memory usage: 129.7+ KB\n"
     ]
    }
   ],
   "source": [
    "dataset: pd.DataFrame = pd.read_csv('./datasets/clean.csv')\n",
    "dataset.info()"
   ]
  },
  {
   "cell_type": "markdown",
   "metadata": {},
   "source": [
    "Utilizaremos la libreria `sklearn` para realizar la optimización de atributos. En este caso utilizaremos el algoritmo `SelectFrommodel` que utiliza un modelo de aprendizaje para calcular los pesos de los atributos. En este caso utilizaremos un modelo de regresión logística."
   ]
  },
  {
   "cell_type": "code",
   "execution_count": 39,
   "metadata": {},
   "outputs": [
    {
     "name": "stdout",
     "output_type": "stream",
     "text": [
      "[ 1  6 12 15 16 18 20 21 22 23 24 25]\n"
     ]
    }
   ],
   "source": [
    "pipeline_for_selection = Pipeline([\n",
    "    ('scaler', StandardScaler()),\n",
    "    ('regression', LogisticRegression(max_iter=1000))\n",
    "])\n",
    "\n",
    "def coef_getter(estimator):\n",
    "    return estimator.named_steps['regression'].coef_\n",
    "\n",
    "selector = SelectFromModel(estimator=pipeline_for_selection, threshold=0.2, importance_getter=coef_getter)\n",
    "selector.fit(dataset.drop(['num', 'dataset', 'id'], axis=1), dataset['num'])\n",
    "\n",
    "print(np.where(selector.get_support())[0])"
   ]
  },
  {
   "cell_type": "markdown",
   "metadata": {},
   "source": [
    "El resultado es una seleccion de 12 atributos, con un umbral de 0.2. Veamos cuales son:"
   ]
  },
  {
   "cell_type": "code",
   "execution_count": 40,
   "metadata": {},
   "outputs": [
    {
     "name": "stdout",
     "output_type": "stream",
     "text": [
      "Index(['sex', 'chol', 'prop', 'diuretic', 'thaldur', 'oldpeak', 'ladprox',\n",
      "       'laddist', 'cxmain', 'om1', 'rcaprox', 'rcadist'],\n",
      "      dtype='object')\n"
     ]
    }
   ],
   "source": [
    "print(dataset.drop(['num', 'dataset', 'id'], axis=1).columns[selector.get_support()])"
   ]
  },
  {
   "cell_type": "markdown",
   "metadata": {},
   "source": [
    "### RapidMiner\n",
    "\n",
    "En RapidMiner podemos utilizar el operador `Optimize Selection` en combinacion con el operador `Select By Weights`. El primero requiere un modelo de aprendizaje, en este caso utilizaremos un modelo de regresión logística. El segundo requiere un umbral, en este caso utilizaremos 0.2.\n",
    "\n",
    "![RapidMiner 02](../images/sa-02.png)\n",
    "![RapidMiner 03](../images/sa-03.png)\n",
    "![RapidMiner 04](../images/sa-04.png)\n",
    "\n",
    "La selección resultante es de 8 atributos:\n",
    "\n",
    "![RapidMiner 05](../images/sa-05.png)"
   ]
  }
 ],
 "metadata": {
  "kernelspec": {
   "display_name": ".venv",
   "language": "python",
   "name": "python3"
  },
  "language_info": {
   "codemirror_mode": {
    "name": "ipython",
    "version": 3
   },
   "file_extension": ".py",
   "mimetype": "text/x-python",
   "name": "python",
   "nbconvert_exporter": "python",
   "pygments_lexer": "ipython3",
   "version": "3.10.2"
  },
  "orig_nbformat": 4
 },
 "nbformat": 4,
 "nbformat_minor": 2
}
