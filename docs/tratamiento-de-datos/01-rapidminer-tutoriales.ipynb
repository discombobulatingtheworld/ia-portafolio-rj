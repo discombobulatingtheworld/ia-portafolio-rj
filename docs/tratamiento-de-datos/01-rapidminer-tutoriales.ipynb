{
 "cells": [
  {
   "cell_type": "markdown",
   "metadata": {},
   "source": [
    "Tutoriales de RapidMiner\n",
    "========================\n",
    "\n",
    "### Handling Missing Values\n",
    "\n",
    "El tutorial comienza separando dos grupos generales de tratamiento de datos: mezclado y limpieza. Se aclara que este tutorial y el próximo tratan de la limpieza de los datos. El tutorial utiliza el dataset Titanic. Dentro del dataset se destacan varios atributos con valores faltantes en los ejemplos: Age, Passenger Fare, Cabin, Port of Embarkation, y Life Boat. Se remueven inicialmente los atributos Cabin, y Life Boat: el primero debido a datos faltantes y restantes sin utilidad, y el segundo debido a alta correlación con el label que se utilizara. Luego generamos los valores faltantes para el atributo Age basados en el promedio del atributo para los valores existentes, y utilizando el operador Replace Missing Values. Para el resto de los atributos con datos faltantes, se filtran todos los ejemplos donde el atributo no tenga dato utilizando el operador Filter Examples, y seleccionando la condición de filtrado a no_missing_attributes. Como resultado, obtenemos un dataset sin valores faltantes, reducido a 1306 ejemplos.\n",
    "\n",
    "El tutorial demuestra como se puede limpiar un dataset utilizando varios operadores para remover columnas, remover ejemplos, y reemplazar valores vacíos con otros valores. Al mismo tiempo, advierte de que cada operador se debe considerar antes de utilizar para no modificar demasiado el valor representativo del dataset.\n",
    "\n",
    "### Normalization and Outlier Detection\n",
    "\n",
    "Avanzando en la limpieza de los datos se pasa a declarar la importancia de detectar casos inusuales y, en algunos casos, removerlos del dataset. Esto es debido que en varios casos los datos inusuales son resultado de medidas incorrectas, pero en algunos son precisamente los datos de interés que deseamos encontrar. En este tutorial se busca tratarlos de datos inválidos y eliminarlos.\n",
    "\n",
    "Se comienza removiendo las columnas de Cabin, Life Boat, Name, y Ticket Number. Esto es debido a su baja contribución al detectado de valores inusuales. Para el resto se utilizará un algoritmo basado en distancia euclideana entre puntos de datos, marcando los puntos mas lejanos como inusuales. Luego se utiliza el operador Normalize para transformar los valores de cada atributo de forma que sus datos tengan una media de 0 y una distribución estándar de 1. Esto es para poder comparar los atributos uno con cada otro. Se continúa aplicado el operador Detect Outliers (Distance). Este operador busca los ejemplos con mayor distancia del resto y los marca como inusuales utilizando una nueva columna con valores true o false. Por último utilizaremos el operador Filter Examples para remover todos los ejemplos con el atributo Outlier en true, removiendo efectivamente los valores inusuales."
   ]
  }
 ],
 "metadata": {
  "language_info": {
   "name": "python"
  },
  "orig_nbformat": 4
 },
 "nbformat": 4,
 "nbformat_minor": 2
}
