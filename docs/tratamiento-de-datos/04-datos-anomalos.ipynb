{
 "cells": [
  {
   "cell_type": "markdown",
   "metadata": {},
   "source": [
    "Datos Anómalos\n",
    "==============\n",
    "\n",
    "Un modelo de aprendizaje automatizado aprende a partir de datos conocidos, por lo que es importante que los datos de entrenamiento sean representativos de los datos que se encontrarán en el mundo real. Si los datos de entrenamiento contienen valores atípicos, el modelo puede aprender a predecir valores atípicos. Esto puede ser un problema si los valores atípicos son datos incorrectos o si son datos correctos pero poco frecuentes.\n",
    "\n",
    "Para mejorar la calidad de las predicciones de un modelo, es importante identificar y eliminar los valores atípicos de los datos de entrenamiento. Esto se puede realizar de varias formas, aquí veremos como utilizar el método de `Local Outlier Factor` para asignar a cada dato un valor de anomalía. Luego, y a partir de este dato, podemos eliminar los datos que tengan un valor de anomalía superior a un umbral.\n",
    "\n",
    "## Python\n",
    "\n",
    "Carguemos un conjunto de datos e identifiquemos los valores atípicos."
   ]
  },
  {
   "cell_type": "code",
   "execution_count": 23,
   "metadata": {},
   "outputs": [],
   "source": [
    "import pandas as pd\n",
    "import numpy as np\n",
    "from sklearn.neighbors import LocalOutlierFactor"
   ]
  },
  {
   "cell_type": "code",
   "execution_count": 24,
   "metadata": {},
   "outputs": [
    {
     "name": "stdout",
     "output_type": "stream",
     "text": [
      "<class 'pandas.core.frame.DataFrame'>\n",
      "RangeIndex: 572 entries, 0 to 571\n",
      "Data columns (total 29 columns):\n",
      " #   Column    Non-Null Count  Dtype  \n",
      "---  ------    --------------  -----  \n",
      " 0   dataset   572 non-null    object \n",
      " 1   id        572 non-null    int64  \n",
      " 2   age       572 non-null    int64  \n",
      " 3   sex       572 non-null    int64  \n",
      " 4   painloc   572 non-null    float64\n",
      " 5   painexer  572 non-null    float64\n",
      " 6   trestbps  572 non-null    float64\n",
      " 7   htn       572 non-null    float64\n",
      " 8   chol      572 non-null    float64\n",
      " 9   fbs       572 non-null    float64\n",
      " 10  restecg   572 non-null    float64\n",
      " 11  ekgmo     572 non-null    int64  \n",
      " 12  ekgday    572 non-null    int64  \n",
      " 13  dig       572 non-null    float64\n",
      " 14  prop      572 non-null    float64\n",
      " 15  nitr      572 non-null    float64\n",
      " 16  pro       572 non-null    float64\n",
      " 17  diuretic  572 non-null    float64\n",
      " 18  thaldur   572 non-null    float64\n",
      " 19  tpeakbpd  572 non-null    float64\n",
      " 20  oldpeak   572 non-null    float64\n",
      " 21  num       572 non-null    int64  \n",
      " 22  lmt       572 non-null    float64\n",
      " 23  ladprox   572 non-null    float64\n",
      " 24  laddist   572 non-null    float64\n",
      " 25  cxmain    572 non-null    float64\n",
      " 26  om1       572 non-null    float64\n",
      " 27  rcaprox   572 non-null    float64\n",
      " 28  rcadist   572 non-null    float64\n",
      "dtypes: float64(22), int64(6), object(1)\n",
      "memory usage: 129.7+ KB\n"
     ]
    }
   ],
   "source": [
    "dataset: pd.DataFrame = pd.read_csv('./datasets/clean.csv')\n",
    "dataset.info()"
   ]
  },
  {
   "cell_type": "markdown",
   "metadata": {},
   "source": [
    "Este conjunto de datos no tiene valores faltantes, pero desconocemos si tiene valores atípicos. Para calular el valor de anomalía de cada dato, utilizaremos la clase `LocalOutlierFactor` de la librería `sklearn`."
   ]
  },
  {
   "cell_type": "code",
   "execution_count": 25,
   "metadata": {},
   "outputs": [
    {
     "name": "stdout",
     "output_type": "stream",
     "text": [
      "<class 'pandas.core.frame.DataFrame'>\n",
      "RangeIndex: 572 entries, 0 to 571\n",
      "Data columns (total 30 columns):\n",
      " #   Column    Non-Null Count  Dtype  \n",
      "---  ------    --------------  -----  \n",
      " 0   dataset   572 non-null    object \n",
      " 1   id        572 non-null    int64  \n",
      " 2   age       572 non-null    int64  \n",
      " 3   sex       572 non-null    int64  \n",
      " 4   painloc   572 non-null    float64\n",
      " 5   painexer  572 non-null    float64\n",
      " 6   trestbps  572 non-null    float64\n",
      " 7   htn       572 non-null    float64\n",
      " 8   chol      572 non-null    float64\n",
      " 9   fbs       572 non-null    float64\n",
      " 10  restecg   572 non-null    float64\n",
      " 11  ekgmo     572 non-null    int64  \n",
      " 12  ekgday    572 non-null    int64  \n",
      " 13  dig       572 non-null    float64\n",
      " 14  prop      572 non-null    float64\n",
      " 15  nitr      572 non-null    float64\n",
      " 16  pro       572 non-null    float64\n",
      " 17  diuretic  572 non-null    float64\n",
      " 18  thaldur   572 non-null    float64\n",
      " 19  tpeakbpd  572 non-null    float64\n",
      " 20  oldpeak   572 non-null    float64\n",
      " 21  num       572 non-null    int64  \n",
      " 22  lmt       572 non-null    float64\n",
      " 23  ladprox   572 non-null    float64\n",
      " 24  laddist   572 non-null    float64\n",
      " 25  cxmain    572 non-null    float64\n",
      " 26  om1       572 non-null    float64\n",
      " 27  rcaprox   572 non-null    float64\n",
      " 28  rcadist   572 non-null    float64\n",
      " 29  outlier   572 non-null    float64\n",
      "dtypes: float64(23), int64(6), object(1)\n",
      "memory usage: 134.2+ KB\n",
      "None\n"
     ]
    }
   ],
   "source": [
    "lof = LocalOutlierFactor(n_neighbors=20)\n",
    "lof.fit(dataset.drop(['id', 'num', 'dataset'], axis=1))\n",
    "dataset['outlier'] = -lof.negative_outlier_factor_\n",
    "\n",
    "print(dataset.info())"
   ]
  },
  {
   "cell_type": "markdown",
   "metadata": {},
   "source": [
    "Ahora lo que resta es eliminar las columnas que tengan un valor de anomalía superior a un umbral. Utilizemos un umbral de 1.3."
   ]
  },
  {
   "cell_type": "code",
   "execution_count": 26,
   "metadata": {},
   "outputs": [
    {
     "name": "stdout",
     "output_type": "stream",
     "text": [
      "<class 'pandas.core.frame.DataFrame'>\n",
      "Index: 522 entries, 0 to 571\n",
      "Data columns (total 29 columns):\n",
      " #   Column    Non-Null Count  Dtype  \n",
      "---  ------    --------------  -----  \n",
      " 0   dataset   522 non-null    object \n",
      " 1   id        522 non-null    int64  \n",
      " 2   age       522 non-null    int64  \n",
      " 3   sex       522 non-null    int64  \n",
      " 4   painloc   522 non-null    float64\n",
      " 5   painexer  522 non-null    float64\n",
      " 6   trestbps  522 non-null    float64\n",
      " 7   htn       522 non-null    float64\n",
      " 8   chol      522 non-null    float64\n",
      " 9   fbs       522 non-null    float64\n",
      " 10  restecg   522 non-null    float64\n",
      " 11  ekgmo     522 non-null    int64  \n",
      " 12  ekgday    522 non-null    int64  \n",
      " 13  dig       522 non-null    float64\n",
      " 14  prop      522 non-null    float64\n",
      " 15  nitr      522 non-null    float64\n",
      " 16  pro       522 non-null    float64\n",
      " 17  diuretic  522 non-null    float64\n",
      " 18  thaldur   522 non-null    float64\n",
      " 19  tpeakbpd  522 non-null    float64\n",
      " 20  oldpeak   522 non-null    float64\n",
      " 21  num       522 non-null    int64  \n",
      " 22  lmt       522 non-null    float64\n",
      " 23  ladprox   522 non-null    float64\n",
      " 24  laddist   522 non-null    float64\n",
      " 25  cxmain    522 non-null    float64\n",
      " 26  om1       522 non-null    float64\n",
      " 27  rcaprox   522 non-null    float64\n",
      " 28  rcadist   522 non-null    float64\n",
      "dtypes: float64(22), int64(6), object(1)\n",
      "memory usage: 122.3+ KB\n",
      "None\n"
     ]
    }
   ],
   "source": [
    "dataset = dataset[dataset['outlier'] <= 1.3]\n",
    "dataset = dataset.drop(['outlier'], axis=1)\n",
    "print(dataset.info())"
   ]
  },
  {
   "cell_type": "markdown",
   "metadata": {},
   "source": [
    "El conjunto de datos se reducio de 572 ejemplos a 522 ejemplos.\n",
    "\n",
    "## RapidMiner\n",
    "\n",
    "Dentro de RapidMiner, el proceso es similar. Utilizamos primero el operador `Detect Outliers (LOF)`  para obtener el valor de anomalía de cada dato.\n",
    "\n",
    "![Detect Outliers (LOF)](../images/da-01.png)\n",
    "\n",
    "Luego utilizamos el operador `Filter Examples` para eliminar los datos que tengan un valor de anomalía superior al umbral predeterminado. En nuestro caso 1.3.\n",
    "\n",
    "![Filter Examples](../images/da-02.png)\n",
    "\n",
    "El resultado en este caso es un conjunto de datos de 458 ejemplos.\n",
    "\n",
    "![Filter Examples](../images/da-03.png)"
   ]
  }
 ],
 "metadata": {
  "kernelspec": {
   "display_name": ".venv",
   "language": "python",
   "name": "python3"
  },
  "language_info": {
   "codemirror_mode": {
    "name": "ipython",
    "version": 3
   },
   "file_extension": ".py",
   "mimetype": "text/x-python",
   "name": "python",
   "nbconvert_exporter": "python",
   "pygments_lexer": "ipython3",
   "version": "3.10.2"
  },
  "orig_nbformat": 4
 },
 "nbformat": 4,
 "nbformat_minor": 2
}
