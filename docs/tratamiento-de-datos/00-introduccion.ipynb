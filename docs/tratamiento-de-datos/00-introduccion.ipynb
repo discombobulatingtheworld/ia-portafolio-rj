{
 "cells": [
  {
   "cell_type": "markdown",
   "metadata": {},
   "source": [
    "Introducción\n",
    "============\n",
    "\n",
    "Un algoritmo de aprendizaje automatizado no es una bala de plata capaz de recibir cualquier conjunto de datos y producir un modelo útil. Si la calidad de los datos utilizados para su entrenamiento es subpar, el modelo resultante también lo será. Por lo tanto, es importante que, al comenzar un proyecto de aprendizaje automatizado, se dedique tiempo a comprender los datos con los que se está trabajando. \n",
    "\n",
    "El proceso requiere conocimiento del área de aplicación para interpretar los datos correctamente. Esto significa conocer cuales son los datos disponibles, como se recopilaron y qué significan, y si estos son representativos de la población de interés.\n",
    "\n",
    "Es de importancia también conocer los tipos de datos con los que se trabaja. Ciertos algoritmos de aprendizaje automatizado funcionan mejor con ciertos tipos de datos. Y otros simplemente no se pueden aplicar a ciertos tipos de datos. Por ejemplo, los algoritmos de aprendizaje automatizado que utilizan distancias euclidianas, como la regresión lineal, no funcionan bien con datos categóricos. En estos casos puede ser requerida una transformación de los datos.\n",
    "\n",
    "Otro aspecto a tener en cuenta es el análisis estadístico de los datos. Características estadísticas como lo son la media, la moda, el desvío, los minimos, y los maximos, pueden ayudar a comprender los datos. También vuelve a ser importante para la selección de algoritmos a utilizar, dado que algunos realizan suposiciones sobre la distribución de los datos. Ejemplos con valores faltantes o valores atípicos pueden también afectar el rendimiento de los algoritmos de aprendizaje automatizado.\n",
    "\n",
    "Por estas razones, es importante realizar un análisis exploratorio de los datos antes de comenzar a trabajar con ellos. Este análisis exploratorio de datos nos permitirá realizar decisiones informadas sobre los algoritmos a utilizar, y sobre las transformaciones que se deben aplicar a los datos."
   ]
  }
 ],
 "metadata": {
  "language_info": {
   "name": "python"
  },
  "orig_nbformat": 4
 },
 "nbformat": 4,
 "nbformat_minor": 2
}
