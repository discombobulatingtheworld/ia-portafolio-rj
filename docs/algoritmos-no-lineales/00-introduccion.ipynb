{
 "cells": [
  {
   "cell_type": "markdown",
   "metadata": {},
   "source": [
    "Introducción\n",
    "============\n",
    "\n",
    "Los algoritmos de aprendizaje automatizado no lineales son aquellos usados para modelar relaciones no lineales entre las variables de entrada y salida. En este caso, la salida no es una combinación lineal de las entradas.\n",
    "\n",
    "## Contenidos\n",
    "\n",
    "1. [k Vecinos más Cercanos](../01-knn)\n",
    "2. [Bayesiano Ingenuo](../02-naive-bayes)"
   ]
  }
 ],
 "metadata": {
  "language_info": {
   "name": "python"
  },
  "orig_nbformat": 4
 },
 "nbformat": 4,
 "nbformat_minor": 2
}
