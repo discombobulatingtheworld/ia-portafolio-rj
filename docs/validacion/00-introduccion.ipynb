{
 "cells": [
  {
   "cell_type": "markdown",
   "metadata": {},
   "source": [
    "Introducción\n",
    "============\n",
    "\n",
    "Un modelo de aprendizaje automatizado es un modelo predictivo. Se comienza con una tabla de $n$ columnas $X$, y una columna especial $Y$, y el modelo aprende a predecir $Y$ a partir de $X$. En el caso de la regresión, $Y$ es una variable numérica, mientras que en la clasificación $Y$ es una variable categórica. \n",
    "\n",
    "No solo se debe requerir que el modelo no cometa errores en los datos de entrenamiento, sino que también se debe requerir que el modelo sea capaz de generalizar a datos nuevos.\n",
    "\n",
    "## Contenidos\n",
    "\n",
    "1. [Error de entrenamiento vs error de prueba](../01-error-prueba-vs-entrenamiento)\n",
    "2. [Validación dividida](../02-validacion-dividida)\n",
    "3. [Validación cruzada](../03-validacion-cruzada)"
   ]
  }
 ],
 "metadata": {
  "language_info": {
   "name": "python"
  },
  "orig_nbformat": 4
 },
 "nbformat": 4,
 "nbformat_minor": 2
}
