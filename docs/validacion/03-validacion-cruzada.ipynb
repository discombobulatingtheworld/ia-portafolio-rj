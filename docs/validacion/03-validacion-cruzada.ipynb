{
 "cells": [
  {
   "cell_type": "markdown",
   "metadata": {},
   "source": [
    "Validación Cruzada\n",
    "==================\n",
    "\n",
    "Es posible que al aplicar el método de validación dividida, el conjunto de datos de entrenamiento no sea representativo de la población, y que el modelo resulte sobre ajustado. Para prevenir esto, podemos utilizar otro método de validación llamado validación cruzada.\n",
    "\n",
    "La validación cruzada consiste en dividir el conjunto de datos en $k$ subconjuntos, y realizar $k$ iteraciones. En cada iteración, se utiliza un subconjunto como conjunto de prueba, y los restantes como conjunto de entrenamiento. Al finalizar las iteraciones, se promedian los resultados obtenidos en cada iteración.\n",
    "\n",
    "Este metodo se llama validación cruzada en $k$ iteraciones, o $k$-fold cross validation, y es el método de validación mas utilizado cuando se dispone de un conjunto de datos pequeño, o cuando buscamos prevenir el sobre ajuste.\n",
    "\n",
    "Una desventaja de este método es que requiere entrenar el modelo $k$ veces, lo cual puede ser costoso computacionalmente."
   ]
  }
 ],
 "metadata": {
  "language_info": {
   "name": "python"
  },
  "orig_nbformat": 4
 },
 "nbformat": 4,
 "nbformat_minor": 2
}
