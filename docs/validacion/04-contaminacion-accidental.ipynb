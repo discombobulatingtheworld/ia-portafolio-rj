{
 "cells": [
  {
   "cell_type": "markdown",
   "metadata": {},
   "source": [
    "Contaminación Accidental\n",
    "========================\n",
    "\n",
    "El concepto central detrás de dividir el conjunto de datos en dos conjuntos, uno de entrenamiento y uno de prueba, es el prevenir que el conjunto de datos de prueba y el conjunto de datos de entrenamiento compartan información que, resultando en sobreajuste, lleve a una evaluación optimista del modelo.\n",
    "\n",
    "Pero incluso al separar los conjuntos, es posible que se mezcle informacion de uno en el otro. Si no se toman ciertas precauciones, la utilización de metodos de validación dividida o cruzada, todavía pueden llevar a una evaluación optimista del modelo.\n",
    "\n",
    "Existen varias formas de contaminar el conjunto de datos de prueba con información del conjunto de entrenamiento. Dentro de estas podemos encontrar\n",
    "\n",
    "- **Contaminación por Normalización**\n",
    "\n",
    "Este tipo de contaminación ocurre cuando la normalización se realiza sobre el conjunto de datos completo, en lugar de sobre cada conjunto por separado. Información de la media y la desviación estandar del conjunto de entrenamiento se mezclan con el conjunto de prueba, resultando en contaminación incluso al dividirlos.\n",
    "\n",
    "Para evitar esto, es preciso realizar la normalización sobre cada conjunto por separado.\n",
    "\n",
    "- **Contaminación por Optimización de Parámetros**\n",
    "\n",
    "Al realizar optimización sobre los parametros utilizados por el modelo, como lo son $k$ en kNN o los arboles en un bosque aleatorio, se puede caer en el error de utilizar el conjunto de prueba para seleccionar los parametros que mejor se ajustan al modelo. Esto lleva a que el modelo posea un sesgo direccionado hacia el conjunto de prueba.\n",
    "\n",
    "Para resolver esto, podemos utilizar validación cruzada anidada, donde primero se utiliza validación cruzada para seleccionar los parametros, y luego se utiliza validación cruzada para evaluar el modelo con los parametros seleccionados.\n",
    "\n",
    "- **Contaminación por Selección de Variables**\n",
    "\n",
    "Al realizar selección de variables, se puede caer en el error de utilizar el conjunto de prueba para seleccionar las variables que mejor se ajustan al modelo. Seleccionar las variables es parte misma del proceso de entrenar el modelo, por lo que debe ser propiamente validado.\n",
    "\n",
    "Esto lo podemos realizar nuevamente utilizando validación cruzada anidada, donde primero se utiliza validación cruzada para seleccionar las variables, y luego se utiliza validación cruzada para evaluar el modelo con las variables seleccionadas."
   ]
  }
 ],
 "metadata": {
  "language_info": {
   "name": "python"
  },
  "orig_nbformat": 4
 },
 "nbformat": 4,
 "nbformat_minor": 2
}
