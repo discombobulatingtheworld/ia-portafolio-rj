{
 "cells": [
  {
   "cell_type": "markdown",
   "metadata": {},
   "source": [
    "Introducción\n",
    "============\n",
    "\n",
    "En este caso de estudo, vamos a enfocarnos en la predicción de la altura de una persona a partir de los restos óseos de su esqueleto. Para ello vamos a utilizar un conjunto de datos conteniendo informacion de esqueletos excavados de un cementerio medieval en Ribe, Dinamarca. El líder de la excavación fue Jacob Kieffer-Olsen. Dentro de este conjunto de datos solo se cuentan con aquellos correspondientes a adultos. Sexo y edad fueron estimados para poder ser utilizados en análisis posteriores.\n",
    "\n",
    "La estimacion de altura basada en restos óseos es una herramienta util para la antropología y medicina forense. Es nuestro objetivo analizar los datos aquí presentados y explorar la posibilidad de predecir la altura de una persona utilizando modelos de aprendizaje automatizado.\n",
    "\n",
    "## Contenidos\n",
    "\n",
    "1. [Datos](../02-datos)\n",
    "2. [Modelado en RapidMiner](../03-regresion-lineal-rapidminer)\n",
    "3. [Modelado en Python](../04-regresion-lineal-python)"
   ]
  }
 ],
 "metadata": {
  "language_info": {
   "name": "python"
  },
  "orig_nbformat": 4
 },
 "nbformat": 4,
 "nbformat_minor": 2
}
