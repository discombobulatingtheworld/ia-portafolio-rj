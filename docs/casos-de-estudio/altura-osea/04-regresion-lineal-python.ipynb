{
 "cells": [
  {
   "cell_type": "markdown",
   "metadata": {},
   "source": [
    "Modelo de Regresión Lineal en Python\n",
    "====================================\n",
    "\n",
    "Ya creamos un modelo de predicción de la altura de una persona dados datos de sus restos óseos, utilizando el algoritmo de regresión lineal en RapidMiner. Ahora vamos a hacer lo mismo en Python.\n",
    "\n"
   ]
  },
  {
   "cell_type": "code",
   "execution_count": 101,
   "metadata": {},
   "outputs": [],
   "source": [
    "import pandas as pd\n",
    "import numpy as np\n",
    "import sqlalchemy as sa\n",
    "import os\n",
    "from sklearn.preprocessing import StandardScaler\n",
    "from sklearn.linear_model import LinearRegression\n",
    "from sklearn.model_selection import cross_val_predict\n",
    "from sklearn.pipeline import Pipeline\n",
    "from sklearn.feature_selection import SelectFromModel\n",
    "from sklearn.neighbors import LocalOutlierFactor\n",
    "from sklearn.metrics import mean_absolute_error, mean_squared_error, r2_score\n",
    "import matplotlib.pyplot as plt"
   ]
  },
  {
   "cell_type": "markdown",
   "metadata": {},
   "source": [
    "## Carga de datos\n",
    "\n",
    "Utilizaremos el mismo procedimiento de carga de datos que usamos en el análisis exploratorio de datos. Para ello, importamos las librerías necesarias y cargamos el fichero de datos."
   ]
  },
  {
   "cell_type": "code",
   "execution_count": 102,
   "metadata": {},
   "outputs": [
    {
     "name": "stdout",
     "output_type": "stream",
     "text": [
      "   ID Location Site_Number  Age_Minumum  Age_Maximum   Sex Grave Number  \\\n",
      "0   1     Ribe     ASR1015         20.0         24.0  Male          G40   \n",
      "1   4     Ribe     ASR1015         35.0         45.0  Male         G312   \n",
      "2   5     Ribe     ASR1015         50.0         60.0  Male         G229   \n",
      "3   6     Ribe     ASR1015         30.0         40.0  Male         G257   \n",
      "4   7     Ribe     ASR1015         45.0         55.0  Male          G74   \n",
      "\n",
      "   Canine number  Canine largest age  Canine 2nd largest age  ...  \\\n",
      "0            2.0                 3.0                     5.0  ...   \n",
      "1            3.0                 4.0                     4.5  ...   \n",
      "2            0.0                 0.0                     0.0  ...   \n",
      "3            NaN                 NaN                     NaN  ...   \n",
      "4            NaN                 NaN                     NaN  ...   \n",
      "\n",
      "   Height in grave                            Abnormalities Vertebras  \\\n",
      "0            173.5                                               None   \n",
      "1            170.0                                               None   \n",
      "2            171.5  To hvirvler fusioneret - har ingen betydning f...   \n",
      "3            165.0                                               None   \n",
      "4            165.0                                               None   \n",
      "\n",
      "   Femur left  Femur right  Abnormalities Femur  \\\n",
      "0        49.6         50.0  Brækket Postmortalt   \n",
      "1        48.4         48.5                 None   \n",
      "2        50.8         51.3                 None   \n",
      "3        45.4          NaN                 None   \n",
      "4        47.5         46.6                 None   \n",
      "\n",
      "                                               Notes       Date Signature  \\\n",
      "0                                               None 2008-05-05      Mwod   \n",
      "1                                      læbedannelser 2008-05-08      MWOD   \n",
      "2                                               None 2008-05-08      MWOD   \n",
      "3  Male?, højre femur kan ikke måles da nedbrudt,... 2008-05-08      MWOD   \n",
      "4  kraniet mangler - kig efter om det er på udsti...        NaT      None   \n",
      "\n",
      "  Hyperplasia Teeth Scorable  \n",
      "0        True           True  \n",
      "1        True           True  \n",
      "2       False           True  \n",
      "3       False          False  \n",
      "4       False          False  \n",
      "\n",
      "[5 rows x 23 columns]\n"
     ]
    }
   ],
   "source": [
    "db_dir = \"datasets\\originales\\Knogler.accdb\"\n",
    "SQLALCHEMY_DATABASE_URI = os.path.abspath(db_dir).replace(\"\\\\\", \"\\\\\\\\\")\n",
    "\n",
    "connection_string = (\n",
    "    r\"DRIVER={Microsoft Access Driver (*.mdb, *.accdb)};\"\n",
    "    rf\"DBQ={SQLALCHEMY_DATABASE_URI};\"\n",
    "    r\"ExtendedAnsiSQL=1;\"\n",
    ")\n",
    "connection_url = sa.engine.URL.create(\n",
    "    \"access+pyodbc\",\n",
    "    query={\"odbc_connect\": connection_string}\n",
    ")\n",
    "\n",
    "engine = sa.create_engine(connection_url)\n",
    "df = pd.read_sql(\"SELECT * FROM Dataindsamling\", engine)\n",
    "\n",
    "print(df.head())"
   ]
  },
  {
   "cell_type": "code",
   "execution_count": 103,
   "metadata": {},
   "outputs": [
    {
     "name": "stdout",
     "output_type": "stream",
     "text": [
      "<class 'pandas.core.frame.DataFrame'>\n",
      "RangeIndex: 117 entries, 0 to 116\n",
      "Data columns (total 23 columns):\n",
      " #   Column                   Non-Null Count  Dtype         \n",
      "---  ------                   --------------  -----         \n",
      " 0   ID                       117 non-null    int64         \n",
      " 1   Location                 117 non-null    object        \n",
      " 2   Site_Number              117 non-null    object        \n",
      " 3   Age_Minumum              117 non-null    float64       \n",
      " 4   Age_Maximum              110 non-null    float64       \n",
      " 5   Sex                      115 non-null    object        \n",
      " 6   Grave Number             117 non-null    object        \n",
      " 7   Canine number            89 non-null     float64       \n",
      " 8   Canine largest age       83 non-null     float64       \n",
      " 9   Canine 2nd largest age   76 non-null     float64       \n",
      " 10  Incisor number           77 non-null     float64       \n",
      " 11  Incisor largest age      75 non-null     float64       \n",
      " 12  Incisor 2nd largest age  72 non-null     float64       \n",
      " 13  Height in grave          117 non-null    float64       \n",
      " 14  Abnormalities Vertebras  13 non-null     object        \n",
      " 15  Femur left               92 non-null     float64       \n",
      " 16  Femur right              90 non-null     float64       \n",
      " 17  Abnormalities Femur      11 non-null     object        \n",
      " 18  Notes                    65 non-null     object        \n",
      " 19  Date                     114 non-null    datetime64[ns]\n",
      " 20  Signature                114 non-null    object        \n",
      " 21  Hyperplasia              117 non-null    bool          \n",
      " 22  Teeth Scorable           117 non-null    bool          \n",
      "dtypes: bool(2), datetime64[ns](1), float64(11), int64(1), object(8)\n",
      "memory usage: 19.5+ KB\n",
      "None\n"
     ]
    }
   ],
   "source": [
    "print(df.info())"
   ]
  },
  {
   "cell_type": "markdown",
   "metadata": {},
   "source": [
    "## Preprocesamiento\n",
    "\n",
    "Intentaremos seguir el mismo procedimiento que el que realizamos en el preprocesamiento de los datos para RapidMiner. La primera tarea es el filtrado de datos que no nos sirven para el caso. Removemos las columnas que no nos interesan."
   ]
  },
  {
   "cell_type": "code",
   "execution_count": 104,
   "metadata": {},
   "outputs": [
    {
     "name": "stdout",
     "output_type": "stream",
     "text": [
      "<class 'pandas.core.frame.DataFrame'>\n",
      "RangeIndex: 117 entries, 0 to 116\n",
      "Data columns (total 16 columns):\n",
      " #   Column                   Non-Null Count  Dtype  \n",
      "---  ------                   --------------  -----  \n",
      " 0   Age_Minumum              117 non-null    float64\n",
      " 1   Age_Maximum              110 non-null    float64\n",
      " 2   Sex                      115 non-null    object \n",
      " 3   Canine number            89 non-null     float64\n",
      " 4   Canine largest age       83 non-null     float64\n",
      " 5   Canine 2nd largest age   76 non-null     float64\n",
      " 6   Incisor number           77 non-null     float64\n",
      " 7   Incisor largest age      75 non-null     float64\n",
      " 8   Incisor 2nd largest age  72 non-null     float64\n",
      " 9   Height in grave          117 non-null    float64\n",
      " 10  Abnormalities Vertebras  13 non-null     object \n",
      " 11  Femur left               92 non-null     float64\n",
      " 12  Femur right              90 non-null     float64\n",
      " 13  Abnormalities Femur      11 non-null     object \n",
      " 14  Hyperplasia              117 non-null    bool   \n",
      " 15  Teeth Scorable           117 non-null    bool   \n",
      "dtypes: bool(2), float64(11), object(3)\n",
      "memory usage: 13.2+ KB\n",
      "None\n"
     ]
    }
   ],
   "source": [
    "df = df.drop(['Date', 'Grave Number', 'Location', 'Notes', 'Signature', 'Site_Number', 'ID'], axis=1)\n",
    "print(df.info())"
   ]
  },
  {
   "cell_type": "markdown",
   "metadata": {},
   "source": [
    "Tambien removemos las columnas con demasiados valores nulos. En especial aquellas con mas de 30 valores nulos."
   ]
  },
  {
   "cell_type": "code",
   "execution_count": 105,
   "metadata": {},
   "outputs": [
    {
     "name": "stdout",
     "output_type": "stream",
     "text": [
      "<class 'pandas.core.frame.DataFrame'>\n",
      "RangeIndex: 117 entries, 0 to 116\n",
      "Data columns (total 9 columns):\n",
      " #   Column           Non-Null Count  Dtype  \n",
      "---  ------           --------------  -----  \n",
      " 0   Age_Minumum      117 non-null    float64\n",
      " 1   Age_Maximum      110 non-null    float64\n",
      " 2   Sex              115 non-null    object \n",
      " 3   Canine number    89 non-null     float64\n",
      " 4   Height in grave  117 non-null    float64\n",
      " 5   Femur left       92 non-null     float64\n",
      " 6   Femur right      90 non-null     float64\n",
      " 7   Hyperplasia      117 non-null    bool   \n",
      " 8   Teeth Scorable   117 non-null    bool   \n",
      "dtypes: bool(2), float64(6), object(1)\n",
      "memory usage: 6.8+ KB\n",
      "None\n"
     ]
    }
   ],
   "source": [
    "examples_count = df.shape[0]\n",
    "df = df.dropna(axis=1, thresh=int(examples_count - 30))\n",
    "print(df.info())"
   ]
  },
  {
   "cell_type": "markdown",
   "metadata": {},
   "source": [
    "Pasemos ahora a la imputación de valores nulos. Para ello, utilizaremos la moda de los valores del atributo. Esto solo lo haremos para `Canine number`. Los otros atributos con valores faltantes se usaran para filtrar ejemplos incompletos."
   ]
  },
  {
   "cell_type": "code",
   "execution_count": 106,
   "metadata": {},
   "outputs": [],
   "source": [
    "df['Canine number'] = df['Canine number'].fillna(df['Canine number'].mode())"
   ]
  },
  {
   "cell_type": "markdown",
   "metadata": {},
   "source": [
    "El resto de los ejemplos con valores nulos seran eliminados."
   ]
  },
  {
   "cell_type": "code",
   "execution_count": 107,
   "metadata": {},
   "outputs": [
    {
     "name": "stdout",
     "output_type": "stream",
     "text": [
      "<class 'pandas.core.frame.DataFrame'>\n",
      "Index: 59 entries, 0 to 114\n",
      "Data columns (total 9 columns):\n",
      " #   Column           Non-Null Count  Dtype  \n",
      "---  ------           --------------  -----  \n",
      " 0   Age_Minumum      59 non-null     float64\n",
      " 1   Age_Maximum      59 non-null     float64\n",
      " 2   Sex              59 non-null     object \n",
      " 3   Canine number    59 non-null     float64\n",
      " 4   Height in grave  59 non-null     float64\n",
      " 5   Femur left       59 non-null     float64\n",
      " 6   Femur right      59 non-null     float64\n",
      " 7   Hyperplasia      59 non-null     bool   \n",
      " 8   Teeth Scorable   59 non-null     bool   \n",
      "dtypes: bool(2), float64(6), object(1)\n",
      "memory usage: 3.8+ KB\n",
      "None\n"
     ]
    }
   ],
   "source": [
    "df = df.dropna(axis=0)\n",
    "print(df.info())"
   ]
  },
  {
   "cell_type": "markdown",
   "metadata": {},
   "source": [
    "En este punto ya tenemos un conjunto de datos completo de 59 ejemplos. Para poder aplicar el algoritmo de regresión lineal, debemos convertir los valores de los atributos a valores numéricos."
   ]
  },
  {
   "cell_type": "code",
   "execution_count": 108,
   "metadata": {},
   "outputs": [
    {
     "name": "stdout",
     "output_type": "stream",
     "text": [
      "<class 'pandas.core.frame.DataFrame'>\n",
      "Index: 59 entries, 0 to 114\n",
      "Data columns (total 9 columns):\n",
      " #   Column           Non-Null Count  Dtype  \n",
      "---  ------           --------------  -----  \n",
      " 0   Age_Minumum      59 non-null     float64\n",
      " 1   Age_Maximum      59 non-null     float64\n",
      " 2   Sex              59 non-null     int32  \n",
      " 3   Canine number    59 non-null     float64\n",
      " 4   Height in grave  59 non-null     float64\n",
      " 5   Femur left       59 non-null     float64\n",
      " 6   Femur right      59 non-null     float64\n",
      " 7   Hyperplasia      59 non-null     int32  \n",
      " 8   Teeth Scorable   59 non-null     int32  \n",
      "dtypes: float64(6), int32(3)\n",
      "memory usage: 3.9 KB\n",
      "None\n"
     ]
    }
   ],
   "source": [
    "df['Sex'] = df['Sex'].replace(['Male', 'Female'], [0, 1]).astype(int)\n",
    "df['Hyperplasia'] = df['Hyperplasia'].astype(int)\n",
    "df['Teeth Scorable'] = df['Teeth Scorable'].astype(int)\n",
    "print(df.info())"
   ]
  },
  {
   "cell_type": "markdown",
   "metadata": {},
   "source": [
    "Proximo paso es remover los atributos correlacionados. Esto lo realizamos utilizando una matriz de correlación y eliminando aquellos atributos con un valor de correlación mayor a 0.35."
   ]
  },
  {
   "cell_type": "code",
   "execution_count": 109,
   "metadata": {},
   "outputs": [
    {
     "name": "stdout",
     "output_type": "stream",
     "text": [
      "<class 'pandas.core.frame.DataFrame'>\n",
      "Index: 59 entries, 0 to 114\n",
      "Data columns (total 5 columns):\n",
      " #   Column           Non-Null Count  Dtype  \n",
      "---  ------           --------------  -----  \n",
      " 0   Age_Minumum      59 non-null     float64\n",
      " 1   Sex              59 non-null     int32  \n",
      " 2   Canine number    59 non-null     float64\n",
      " 3   Height in grave  59 non-null     float64\n",
      " 4   Femur left       59 non-null     float64\n",
      "dtypes: float64(4), int32(1)\n",
      "memory usage: 2.5 KB\n",
      "None\n"
     ]
    }
   ],
   "source": [
    "correlation_matrix = df.drop(['Height in grave'], axis=1).corr().abs()\n",
    "\n",
    "upper = correlation_matrix.where(\n",
    "    np.triu(np.ones(correlation_matrix.shape), k=1).astype(bool)\n",
    ")\n",
    "\n",
    "to_drop = [column for column in upper.columns if any(upper[column] > 0.35)]\n",
    "\n",
    "df = df.drop(df[to_drop], axis=1)\n",
    "print(df.info())"
   ]
  },
  {
   "cell_type": "markdown",
   "metadata": {},
   "source": [
    "Siguiente, vamos a remover aquellos atributos que tengan datos anomalos."
   ]
  },
  {
   "cell_type": "code",
   "execution_count": 110,
   "metadata": {},
   "outputs": [
    {
     "name": "stdout",
     "output_type": "stream",
     "text": [
      "<class 'pandas.core.frame.DataFrame'>\n",
      "Index: 54 entries, 0 to 114\n",
      "Data columns (total 5 columns):\n",
      " #   Column           Non-Null Count  Dtype  \n",
      "---  ------           --------------  -----  \n",
      " 0   Age_Minumum      54 non-null     float64\n",
      " 1   Sex              54 non-null     int32  \n",
      " 2   Canine number    54 non-null     float64\n",
      " 3   Height in grave  54 non-null     float64\n",
      " 4   Femur left       54 non-null     float64\n",
      "dtypes: float64(4), int32(1)\n",
      "memory usage: 2.3 KB\n",
      "None\n"
     ]
    }
   ],
   "source": [
    "lof = LocalOutlierFactor(n_neighbors=20)\n",
    "lof.fit(df)\n",
    "df['outlier'] = -lof.negative_outlier_factor_\n",
    "\n",
    "df = df[df['outlier'] <= 2]\n",
    "df = df.drop(['outlier'], axis=1)\n",
    "print(df.info())"
   ]
  },
  {
   "cell_type": "markdown",
   "metadata": {},
   "source": [
    "Como ultimo paso del preprocesamiento de datos, vamos a preparar una optimizacion de atributos basada en pesos de esos. Lo realizamos utilizando `SelectFromModel`, y un modelo de regresión lineal. Nos aseguramos tambien de preparar un paso de normalización donde sea necesario."
   ]
  },
  {
   "cell_type": "code",
   "execution_count": 111,
   "metadata": {},
   "outputs": [],
   "source": [
    "pipeline_for_selection = Pipeline([\n",
    "    ('scaler', StandardScaler()),\n",
    "    ('regression', LinearRegression())\n",
    "])\n",
    "\n",
    "selector = SelectFromModel(pipeline_for_selection.named_steps['regression'], threshold='median')"
   ]
  },
  {
   "cell_type": "markdown",
   "metadata": {},
   "source": [
    "Con esto, el preprocesamiento esta finalizado. Pasemos a la etapa de entrenamiento.\n",
    "\n",
    "## Entrenamiento\n",
    "\n",
    "Para entrenar el modelo, vamos a utilizar un algoritmo de regresión lineal. Para ello, importamos la librería de regresión lineal de scikit-learn. Realizamos el proceso dentro de un pipline con el preprocesamiento de selección de atributos y normalización. Esto lon hacemos dentro de una validación cruzada de 10 folds."
   ]
  },
  {
   "cell_type": "code",
   "execution_count": 112,
   "metadata": {},
   "outputs": [],
   "source": [
    "inputs = df.drop(['Height in grave'], axis=1)\n",
    "outputs = df['Height in grave']\n",
    "\n",
    "pipeline_for_training = Pipeline([\n",
    "    ('feature_selection', selector),\n",
    "    ('scaler', StandardScaler()),\n",
    "    ('regression', LinearRegression())\n",
    "])\n",
    "\n",
    "predictions = cross_val_predict(pipeline_for_training, inputs, outputs, cv=10)"
   ]
  },
  {
   "cell_type": "markdown",
   "metadata": {},
   "source": [
    "## Evaluación\n",
    "\n",
    "Para evaluar el modelo, vamos a utilizar el RMSE y el R2. Para ello, importamos las librerías necesarias y calculamos los valores."
   ]
  },
  {
   "cell_type": "code",
   "execution_count": 113,
   "metadata": {},
   "outputs": [
    {
     "name": "stdout",
     "output_type": "stream",
     "text": [
      "Mean Absolute Error (MAE): 2.825981173711993\n",
      "Mean Squared Error (MSE): 12.979478926840114\n",
      "Root Mean Squared Error (RMSE): 3.6027043907098615\n",
      "R-squared: 0.8791956286460211\n"
     ]
    }
   ],
   "source": [
    "mae = mean_absolute_error(outputs, predictions)\n",
    "mse = mean_squared_error(outputs, predictions)\n",
    "rmse = np.sqrt(mse)\n",
    "r2 = r2_score(outputs, predictions)\n",
    "\n",
    "print(f\"Mean Absolute Error (MAE): {mae}\")\n",
    "print(f\"Mean Squared Error (MSE): {mse}\")\n",
    "print(f\"Root Mean Squared Error (RMSE): {rmse}\")\n",
    "print(f\"R-squared: {r2}\")"
   ]
  },
  {
   "cell_type": "markdown",
   "metadata": {},
   "source": [
    "Pasemos a graficar el valor real contra el valor predicho. Para mejor visualizar las diferencias."
   ]
  },
  {
   "cell_type": "code",
   "execution_count": 114,
   "metadata": {},
   "outputs": [
    {
     "data": {
      "image/png": "[encoded data removed]",
      "text/plain": [
       "<Figure size 1000x600 with 1 Axes>"
      ]
     },
     "metadata": {},
     "output_type": "display_data"
    }
   ],
   "source": [
    "plt.figure(figsize=(10, 6))\n",
    "\n",
    "plt.scatter(outputs, predictions, alpha=0.5)\n",
    "\n",
    "m, b = np.polyfit(outputs, predictions, 1)\n",
    "plt.plot(outputs, m*outputs + b, color='red', linewidth=2)\n",
    "\n",
    "plt.plot(outputs, outputs, color='green', linewidth=1, linestyle='--')\n",
    "\n",
    "plt.title('Actual vs. Predicted')\n",
    "plt.xlabel('Actual Values')\n",
    "plt.ylabel('Predicted Values')\n",
    "plt.legend(['Predictions', 'Regression Line', 'Perfect Prediction Line'])\n",
    "plt.grid(True)\n",
    "plt.show()"
   ]
  },
  {
   "cell_type": "markdown",
   "metadata": {},
   "source": [
    "## Conclusiones\n",
    "\n",
    "El modelo de regresión lineal en Python nos da un RMSE de 3.6 y un R2 de 0.87. Para una predicción de altura humana en cm, esto es un error aceptable. El modelo es bastante bueno, y se puede utilizar para predecir la altura de una persona a partir de sus restos óseos."
   ]
  }
 ],
 "metadata": {
  "kernelspec": {
   "display_name": ".venv",
   "language": "python",
   "name": "python3"
  },
  "language_info": {
   "codemirror_mode": {
    "name": "ipython",
    "version": 3
   },
   "file_extension": ".py",
   "mimetype": "text/x-python",
   "name": "python",
   "nbconvert_exporter": "python",
   "pygments_lexer": "ipython3",
   "version": "3.10.2"
  },
  "orig_nbformat": 4
 },
 "nbformat": 4,
 "nbformat_minor": 2
}
