{
 "cells": [
  {
   "cell_type": "markdown",
   "metadata": {},
   "source": [
    "Introducción\n",
    "============\n",
    "\n",
    "Las enfermedades cardíacas presentan un gran problema de salud pública en todo el mundo. Se estima que en el mundo 1 de 13 personas viven con algún tipo de enfermedad cardíaca, y que las enfermedades cardíacas son la principal causa de muerte en el mundo. En 2021, 1 de 3 muertes en el mundo se debieron a enfermedades cardíacas, llegando a 20.5 millones de muertes. Un promedio de 1.5 muertes por segundo.\n",
    "\n",
    "Muchos de los casos de enfermedad cardíaca presentan síntomas que pueden ser detectados y tratados a tiempo, y que pueden prevenir la muerte. Por lo tanto, es importante identificar cual son estos factores que contribuyen a la enfermedad cardíaca, y predecir a partir de ellos con cierta certeza si una persona tiene o no una enfermedad cardíaca.\n",
    "\n",
    "En este artículo, se presenta un caso de estudio de una base de datos de pacientes, algunos con enfermedad cardíaca y otros sin ella. Estos datos fueron obtenidos de la [UCI Machine Learning Repository](https://archive.ics.uci.edu/ml/datasets/Heart+Disease). El objetivo es construir un modelo de aprendizaje automático que pueda predecir si un paciente tiene o no una enfermedad cardíaca, a partir de los datos de los pacientes.\n",
    "\n",
    "## Contenidos\n",
    "\n",
    "1. [Datos](../02-datos)\n",
    "2. [Modelado en RapidMiner](../03-regresion-logistica-rapidminer)\n",
    "3. [Modelado en Python](../04-regresion-logistica-python)"
   ]
  }
 ],
 "metadata": {
  "language_info": {
   "name": "python"
  },
  "orig_nbformat": 4
 },
 "nbformat": 4,
 "nbformat_minor": 2
}
