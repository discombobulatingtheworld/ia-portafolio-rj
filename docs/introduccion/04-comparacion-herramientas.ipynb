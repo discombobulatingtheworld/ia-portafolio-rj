{
 "cells": [
  {
   "cell_type": "markdown",
   "metadata": {},
   "source": [
    "Comparacion de Algoritmos en Herramientas\n",
    "=========================================\n",
    "\n",
    "Fecha de comparacion: 2023-09-22"
   ]
  },
  {
   "cell_type": "markdown",
   "metadata": {},
   "source": [
    "| Algoritmo                    | RapidMiner  | SciKit Learn    | Azure Machine Learning |\n",
    "| :--------------------------- | :---------: | :-------------: | :--------------------: |\n",
    "| k-means                      | &check;     | &check;         | &check;                | \n",
    "| k-modes                      |             |                 |                        |\n",
    "| hierarchical                 | &check;     | &check;         |                        |\n",
    "| DBSCAN                       | &check;     | &check;         |                        |\n",
    "| Gaussiean Mixture Model      |             | &check;         |                        |\n",
    "| Linear SVM                   | &check;     | &check;         | &check;                |\n",
    "| Naive Bayes                  | &check;     | &check;         |\n",
    "| Decision Tree                | &check;     | &check;         | &check;                |\n",
    "| Logistic Regression          | &check;     | &check;         | &check;                |\n",
    "| Kernel SVM                   | &check;     | &check;         |                        |\n",
    "| Random Forest                | &check;     | &check;         |                        |\n",
    "| Neural Network               | &check;     | &check;         | &check;                |\n",
    "| Gradient Boosting Tree       | &check;     | &check;         |                        |\n",
    "| Principal Component Analysis | &check;     | &check;         |                        |\n",
    "| Singular Value Decomposition | &check;     | &check;         | &check;                |\n",
    "| Latent Dirichlet Analysis    |             | &check;         | &check;                |\n",
    "| Linear Regression            | &check;     | &check;         | &check;                |"
   ]
  }
 ],
 "metadata": {
  "language_info": {
   "name": "python"
  },
  "orig_nbformat": 4
 },
 "nbformat": 4,
 "nbformat_minor": 2
}
