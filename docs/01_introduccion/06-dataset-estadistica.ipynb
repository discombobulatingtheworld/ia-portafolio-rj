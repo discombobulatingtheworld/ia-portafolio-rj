{
 "cells": [
  {
   "cell_type": "markdown",
   "metadata": {},
   "source": [
    "Estadistica de un Dataset\n",
    "=========================\n",
    "\n",
    "Tomaremos un dataset y lo utilizaremos para visualizar distintos datos estadisticos sobre sus atributos. Para este ejercicio utilizaremos el dataset Iris, que contiene informacion sobre distintas especies de flores. El dataset se puede encontrar en el siguiente link: [Link!](http://archive.ics.uci.edu/dataset/53/iris)"
   ]
  },
  {
   "cell_type": "code",
   "execution_count": 2,
   "metadata": {},
   "outputs": [],
   "source": [
    "from ucimlrepo import fetch_ucirepo\n",
    "\n",
    "iris = fetch_ucirepo(id=53)"
   ]
  },
  {
   "cell_type": "markdown",
   "metadata": {},
   "source": []
  },
  {
   "cell_type": "markdown",
   "metadata": {},
   "source": [
    "### Problema\n",
    "\n",
    "Tenemos un dataset con ejemplos representando distintas plantas. El mismo contiene 3 clases de 50 ejemplos cada una. Las clases se refieren a distintos tipos de plantas de Iris. Cada ejemplo tiene 4 atributos numericos: \n",
    "\n",
    "1. Longitud del sepalo en cm\n",
    "2. Ancho del sepalo en cm\n",
    "3. Longitud del petalo en cm\n",
    "4. Ancho del petalo en cm\n",
    "\n",
    "El 5 atributo es la clase a la que pertenece la planta. Esta puede ser: Iris Setosa, Iris Versicolour, Iris Virginica.\n",
    "\n",
    "### Estadística\n",
    "\n",
    "Analicemos los datos para obtener información sobre los mismos. Para ello, calcularemos los siguientes valores: Media, Desviación estándar, y Varianza."
   ]
  },
  {
   "cell_type": "code",
   "execution_count": 3,
   "metadata": {},
   "outputs": [
    {
     "name": "stdout",
     "output_type": "stream",
     "text": [
      "\n",
      "Atributo: sepal length\n",
      "Media: 5.843333333333334\n",
      "Desviación estándar: 0.828066127977863\n",
      "Varianza: 0.6856935123042507\n",
      "\n",
      "Atributo: sepal width\n",
      "Media: 3.0540000000000003\n",
      "Desviación estándar: 0.4335943113621737\n",
      "Varianza: 0.1880040268456376\n",
      "\n",
      "Atributo: petal length\n",
      "Media: 3.758666666666666\n",
      "Desviación estándar: 1.7644204199522626\n",
      "Varianza: 3.113179418344519\n",
      "\n",
      "Atributo: petal width\n",
      "Media: 1.1986666666666668\n",
      "Desviación estándar: 0.7631607417008411\n",
      "Varianza: 0.582414317673378\n"
     ]
    }
   ],
   "source": [
    "X = iris.data.features\n",
    "\n",
    "for column in X.columns:\n",
    "    print()\n",
    "    print(f\"Atributo: {column}\")\n",
    "    print(f\"Media: {X[column].mean()}\")\n",
    "    print(f\"Desviación estándar: {X[column].std()}\")\n",
    "    print(f\"Varianza: {X[column].var()}\")\n"
   ]
  }
 ],
 "metadata": {
  "kernelspec": {
   "display_name": ".venv",
   "language": "python",
   "name": "python3"
  },
  "language_info": {
   "codemirror_mode": {
    "name": "ipython",
    "version": 3
   },
   "file_extension": ".py",
   "mimetype": "text/x-python",
   "name": "python",
   "nbconvert_exporter": "python",
   "pygments_lexer": "ipython3",
   "version": "3.10.2"
  },
  "orig_nbformat": 4
 },
 "nbformat": 4,
 "nbformat_minor": 2
}
