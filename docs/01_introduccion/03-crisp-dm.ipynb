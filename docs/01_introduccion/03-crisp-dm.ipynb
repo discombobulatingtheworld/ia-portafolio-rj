{
 "cells": [
  {
   "cell_type": "markdown",
   "metadata": {},
   "source": [
    "CRISP-DM\n",
    "========\n",
    "\n",
    "**CR**oss **I**ndustry **S**tandard **P**rocess for **D**ata **M**ining (CRISP-DM) es una metodologia de trabajo para proyectos de data science. Fue publicada en 1999 con la intencion de estandarizar procesos de mineria de datos en diferentes industrias, y se ha convertido en el estandar de facto para proyectos de data science, analytics y machine learning.\n",
    "\n",
    "La metodologia CRISP-DM se divide en 6 fases:\n",
    "\n",
    "1. Business Understanding\n",
    "\n",
    "La primera fase se centra en comprender los objetivos y requerimientos del proyecto. Se determina desde un punto de vista del negocio, que es lo que el cliente busca resolver con el proyecto. Este objetivo se intenta traducir a un problema de data science, y se define un plan de trabajo para resolverlo.\n",
    "\n",
    "2. Data Understanding\n",
    "\n",
    "Se realiza la recoleccion de datos, y un analisis exploratorio de los mismos, buscando entender la calidad de los datos, y si estos son suficientes para resolver el problema planteado en la fase anterior. Es preciso examinar los datos, visualizarlos, y realizar un analisis estadistico de los mismos. En esta fase se identifica y documenta las necesidades para la preparacion de los datos.\n",
    "\n",
    "3. Data Preparation\n",
    "\n",
    "En esta fase se preparan los datos para el modelado. Se busca seleccionar los datos mas relevantes para el problema, y transformarlos en un formato adecuado para el modelado. Se realizan tareas de limpieza de datos, seleccion de variables, transformacion de variables, y generacion de variables nuevas. Esta fase es la que mas tiempo consume en un proyecto de data science, y se estima que ocupa el 80% del tiempo total del proyecto.\n",
    "\n",
    "4. Modeling\n",
    "\n",
    "Con los datos preparados, se procede a la construccion de modelos. Se investigan diferentes algoritmos de machine learning, y se selecciona los mas adecuados para el problema. Se prepara el esquema de validacion de los modelos, incluyendo la division de los datos en conjuntos de entrenamiento y test, y se procede a entrenar los modelos. Puede ser necesario realizar preparacion de datos adicional especifica para cada modelo.\n",
    "\n",
    "5. Evaluation\n",
    "\n",
    "Ya entrenados los modelos, se evaluan los resultados obtenidos. Se analizan los resultados de los modelos, y se determina si estos cumplen con los objetivos del proyecto. Se selecciona el modelo que mejor resuelve el problema. Es necesario validar todos los pasos del proceso de creacion del modelo, para asegurar que no se hayan cometido errores. Tambien se debe considerar si hay algunos factores que no se hayan tenido en cuenta, y que puedan afectar los resultados. Finalmente se determina si los resultados son suficientemente buenos para resolver el problema, y se decide si se debe volver a alguna de las fases anteriores.\n",
    "\n",
    "6. Despliegue\n",
    "\n",
    "Una vez aprovado el modelo para despliegue, se procede a su implementacion. Dependiendo de los requerimientos del proyecto, este paso puede ser solo la creacion de un informe con los datos obtenidos, o la implementacion de un sistema de machine learning en produccion. En este ultimo caso, se debe crear un plan de mantenimiento del sistema, y se debe definir como se va a monitorear el funcionamiento del mismo."
   ]
  }
 ],
 "metadata": {
  "language_info": {
   "name": "python"
  },
  "orig_nbformat": 4
 },
 "nbformat": 4,
 "nbformat_minor": 2
}
