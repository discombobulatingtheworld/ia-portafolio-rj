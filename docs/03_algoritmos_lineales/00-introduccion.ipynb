{
 "cells": [
  {
   "cell_type": "markdown",
   "metadata": {},
   "source": [
    "Algoritmos Lineales\n",
    "===================\n",
    "\n",
    "Los algoritmos lineales de aprendizaje automatizado son aquellos que asumen una relación lineal entre las variables de entrada y la variable de salida. \n",
    "\n",
    "Su funcionamiento se basa en aproximar la función de salida como una combinación lineal de las variables de entrada.\n",
    "\n",
    "Dependiendo del algoritmo en concreto, se pueden utilizar tanto para problemas de regresión como de clasificación.\n",
    "\n",
    "## Temas\n",
    "\n",
    "1. [Descenso de Gradiente](./01-descenso-gradiente.ipynb)\n",
    "2. [Regresión Lineal](./02-regresion-lineal.ipynb)\n",
    "3. [Regresión Logística](./03_regresion_logistica.ipynb)\n",
    "4. [Análisis Discrimitante Lineal](./04-analisis-discriminante-lineal.ipynb)"
   ]
  }
 ],
 "metadata": {
  "language_info": {
   "name": "python"
  },
  "orig_nbformat": 4
 },
 "nbformat": 4,
 "nbformat_minor": 2
}
