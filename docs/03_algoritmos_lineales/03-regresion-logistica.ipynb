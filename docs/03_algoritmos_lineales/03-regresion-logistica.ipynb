{
 "cells": [
  {
   "cell_type": "markdown",
   "metadata": {},
   "source": [
    "Regresión Logística\n",
    "===================\n",
    "\n",
    "La regresión logística es un modelo de clasificación utilizado para problemas de clasificación de dos clases. En su centro tiene a la función logística, tambien conocida como funcion sigmoide, que es una función que toma valores reales y los comprime en un rango entre 0 y 1. La función logística se define como:\n",
    "\n",
    "$$y = \\frac{1}{1 + e^{-x}}$$\n",
    "\n",
    "Donde $x$ es el valor de entrada y $y$ es el valor transformado. \n",
    "\n",
    "## Representación del Modelo\n",
    "\n",
    "La función logística es utlizada por el algoitmo de regresión logística para predecir la probabilidad de que una instancia pertenezca a una clase en particular. Para esto se utiliza una combinación lineal de las variables de entrada, y se aplica la función logística a esta combinación lineal. El resultado es una función que sigue la siguiente ecuación:\n",
    "\n",
    "$$y = \\frac{\\beta_0 + \\beta_1x_1 + \\beta_2x_2 + ... + \\beta_nx_n}{1 + e^{-(\\beta_0 + \\beta_1x_1 + \\beta_2x_2 + ... + \\beta_nx_n)}}$$\n",
    "\n",
    "La representación del modelo de regresión logística en si, es el conjunto de coeficientes $\\beta_0, \\beta_1, \\beta_2, ..., \\beta_n$ que fueron aprendidos durante el entrenamiento del modelo.\n",
    "\n",
    "## Predicción de Probabilidades\n",
    "\n",
    "La salida de la función logística es un valor entre 0 y 1, que representa la probabilidad de que una instancia pertenezca a la clase positiva. Para convertir este valor en una predicción binaria, se utiliza un umbral, que por defecto es 0.5. Si el valor de la función logística es mayor a 0.5, la predicción es 1, y si es menor a 0.5, la predicción es 0.\n",
    "\n",
    "## Entrenamiento del Modelo\n",
    "\n",
    "El entrenamiento del modelo de regresión logística consiste en estimar los valores de los coeficientes $\\beta_0, \\beta_1, \\beta_2, ..., \\beta_n$. Para esto se utiliza el algoritmo de maxima verosimilitud, un algoritmo comúnmente utilizado en aprendizaje automatizado, pero que realiza varias suposiciones sobre los datos. La idea es que los mejores coeficientes son aquellos que predicen valores cercanos a 1 para las instancias positivas, y valores cercanos a 0 para las instancias negativas. Aquí se busca reducir el error en el modelo para las probabilidades que predice. Esto se implementa comúnmente utilizando algoritmos de optimización como el método Cuasi-Newton.\n",
    "\n",
    "## Preparación de los Datos\n",
    "\n",
    "El modelo de regresión logística realiza varias suposiciones acerca de los datos, incluyendo la distribución y las relaciones entre las variables. Como tal, es importante preparar los datos para que se ajusten a estas suposiciones. Esto incluye:\n",
    "\n",
    "- **Variable de salida binaria**: El modelo de regresión logística hace predicciones sobre la probabilidad de que una instancia pertenezca a la clase positiva.\n",
    "- **Remover ruido**: Se asume que no existen errores en la clasificacion de las instancias en el conjunto de entrenamiento. Se recomienda remover los ejemplos que estén mal clasificados utilizando operaciones de limpieza de datos.\n",
    "- **Distribución Gaussiana**: El modelo de regresión logística es un algoritmo lineal. Resultara en mejores resultados si las variables de entrada tienen una distribución Gaussiana.\n",
    "- **Remover entradas correlacionadas**: El modelo de regresión logística sufrirá de un sobreajuste si las variables de entrada estan altamente correlacionadas. Se recomienda remover las variables que esten altamente correlacionadas entre si.\n",
    "- **Falla en converger**: Es posible que el algoritmo de optimización no converja. Esto puede suceder si hay entradas altamente correlacionadas en los datos de entrenamiento."
   ]
  }
 ],
 "metadata": {
  "language_info": {
   "name": "python"
  },
  "orig_nbformat": 4
 },
 "nbformat": 4,
 "nbformat_minor": 2
}
