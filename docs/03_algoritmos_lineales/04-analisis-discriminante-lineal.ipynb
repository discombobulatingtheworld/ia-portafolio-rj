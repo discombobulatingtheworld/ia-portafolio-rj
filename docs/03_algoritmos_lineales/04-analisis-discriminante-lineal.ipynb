{
 "cells": [
  {
   "cell_type": "markdown",
   "metadata": {},
   "source": [
    "Análisis de Discriminante Lineal\n",
    "================================\n",
    "\n",
    "El análisis de discriminante lineal (LDA) es un método de clasificación para problemas de multiples clases. Es una alternativa a la regresión logística para 2 clases, esta siendo tambien sensible a clases demasiado separaads y conjuntos de datos pequeños. \n",
    "\n",
    "## Representación del Modelo\n",
    "\n",
    "El modelo de LDA tiene una representacion muy directa. Esta compuesta por las propiedades estadisticas de cada variable, y calculadas para cada clase. Estas propiedades son la media y la varianza de la variable para cada clase.\n",
    "\n",
    "## Entrenamiento del Modelo\n",
    "\n",
    "El entrenamiento del modelo LDA consiste en calcular la media y la varianza de cada variable para cada clase. Estas propiedades se calculan a partir de los datos de entrenamiento. Esto se hace partiendo de la suposicion de que los datos de entrenamiento tienen una distribucion Gaussiana (normal). \n",
    "\n",
    "## Predicción del Modelo\n",
    "\n",
    "La predicción del modelo LDA consiste en calcular la probabilidad de que un dato pertenezca a cada clase, y asignarle la clase con mayor probabilidad. La probabilidad se calcula a partir del teorema de Bayes, intentando estimar la probabilidad de que un dato pertenezca a una clase, dadas las probabilidades de que cada valor de entrada pertenezca a cada clase.\n",
    "\n",
    "Podemos estimar algunos valores utilizando la función de la distribucion Gaussiana. Simplificando, obtenemos la siguiente ecuación:\n",
    "\n",
    "$$D_k(x) = x \\cdot \\frac{\\mu_k}{\\sigma^2} - \\frac{\\mu_k^2}{2 \\sigma^2} + \\log(P(k))$$\n",
    "\n",
    "Donde $D_k(x)$ es la función discriminante para la clase $k$, $x$ es el dato de entrada, $\\mu_k$ es la media de la variable para la clase $k$, $\\sigma$ es la desviación estándar de la variable para todas las clases, y $P(k)$ es la probabilidad de que un dato pertenezca a la clase $k$.\n",
    "\n",
    "## Preparación de los Datos\n",
    "\n",
    "Dadas las características del algoritmo podemos determinar varias reglas o guías para preparar los datos de entrada. Estas son:\n",
    "\n",
    "- **Problemas de Clasificación**: LDA es un algoritmo de clasificación, por lo que solo se debe usar para problemas donde la variable de salida sea categórica.\n",
    "- **Distribución Gaussiana**: El algoritmo asume que los datos de entrada tienen una distribución Gaussiana, por lo que se debe verificar que esto sea cierto. Se puede verificar esto utilizando un histograma de los datos para cada variable en aisalación. En caso de que la distribución no sea Gaussiana, se puede transformar la variable para que lo sea.\n",
    "- **Remover Outliers**: LDA es sensible a outliers, por lo que se deben remover antes de entrenar el modelo.\n",
    "- **Misma varianza**: LDA asume que las variables tienen la misma varianza. Se recomienda siempre estandarizar las variables antes de entrenar el modelo.\n",
    "\n",
    "## Extensiones del Modelo\n",
    "\n",
    "Dada la simpleza del algoritmo, existen varias extensiones que se pueden aplicar para mejorar el rendimiento del modelo. Algunas de estas son:\n",
    "\n",
    "- **Análisis de Discriminante Cuadrático**: El modelo LDA asume que las variables tienen la misma covarianza. El modelo QDA relaja esta suposición, permitiendo que cada variable tenga su propia varianza.\n",
    "- **Análisis de Discriminante Flexible**: Usa una combinación no lineal de las entradas, como lo es un spline.\n",
    "- **Análisis de Discriminante Regularizado**: Utiliza regularizacion en la estimación de la varianza, moderando la influencia de distintas variables en LDA.\n"
   ]
  }
 ],
 "metadata": {
  "language_info": {
   "name": "python"
  },
  "orig_nbformat": 4
 },
 "nbformat": 4,
 "nbformat_minor": 2
}
